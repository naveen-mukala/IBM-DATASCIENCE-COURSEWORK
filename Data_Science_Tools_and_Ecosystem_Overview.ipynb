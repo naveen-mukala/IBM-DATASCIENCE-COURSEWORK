{
  "nbformat": 4,
  "nbformat_minor": 0,
  "metadata": {
    "colab": {
      "provenance": [],
      "authorship_tag": "ABX9TyP5/LDqpu9OWur6LBKKvnyr",
      "include_colab_link": true
    },
    "kernelspec": {
      "name": "python3",
      "display_name": "Python 3"
    },
    "language_info": {
      "name": "python"
    }
  },
  "cells": [
    {
      "cell_type": "markdown",
      "metadata": {
        "id": "view-in-github",
        "colab_type": "text"
      },
      "source": [
        "<a href=\"https://colab.research.google.com/github/naveen-mukala/IBM-DATASCIENCE-COURSEWORK/blob/main/Data_Science_Tools_and_Ecosystem_Overview.ipynb\" target=\"_parent\"><img src=\"https://colab.research.google.com/assets/colab-badge.svg\" alt=\"Open In Colab\"/></a>"
      ]
    },
    {
      "cell_type": "markdown",
      "source": [
        "# Data Science Tools and Ecosystem\n",
        "\n",
        "## Introduction\n",
        "## In this notebook, we will explore various data science tools, languages, and libraries. We'll also perform some basic arithmetic operations and time conversions.\n",
        "\n",
        "\n"
      ],
      "metadata": {
        "id": "9XgmaLYqwwnB"
      }
    },
    {
      "cell_type": "markdown",
      "source": [
        "## Data Science Languages\n",
        "Some of the popular languages used in Data Science are:\n",
        "1. Python\n",
        "2. R\n",
        "3. SQL\n",
        "4. Julia\n",
        "5. Scala\n"
      ],
      "metadata": {
        "id": "m3ogK7M8wndn"
      }
    },
    {
      "cell_type": "markdown",
      "source": [
        "## Data Science Libraries\n",
        "Some of the commonly used libraries in Data Science include:\n",
        "1. NumPy\n",
        "2. Pandas\n",
        "3. Matplotlib\n",
        "4. Scikit-learn\n",
        "5. TensorFlow"
      ],
      "metadata": {
        "id": "f495hFQXw0uA"
      }
    },
    {
      "cell_type": "markdown",
      "source": [
        "## Data Science Tools\n",
        "\n",
        "| Category | Tools |\n",
        "|----------|-------|\n",
        "| Data Processing | Apache Spark, Apache Flink |\n",
        "| Data Visualization | Tableau, Power BI |\n",
        "| Machine Learning | scikit-learn, TensorFlow |\n",
        "| Development Environments | Jupyter Notebook, RStudio |\n"
      ],
      "metadata": {
        "id": "qeh2-iyFw5Zd"
      }
    },
    {
      "cell_type": "markdown",
      "source": [
        "## Arithmetic Expression Examples\n",
        "In this section, we'll introduce some basic arithmetic expressions."
      ],
      "metadata": {
        "id": "Td9marUuw-iF"
      }
    },
    {
      "cell_type": "code",
      "source": [
        "### Multiply and Add Numbers\n",
        "\n",
        "\n",
        "# This is a simple arithmetic expression to multiply then add integers\n",
        "result = (3 * 4) + 5\n",
        "print(result)\n",
        "\n",
        "\n"
      ],
      "metadata": {
        "colab": {
          "base_uri": "https://localhost:8080/"
        },
        "id": "EF5ulbKswL9B",
        "outputId": "9d1d15a0-b2ca-47d4-f176-39635ade28ab"
      },
      "execution_count": 3,
      "outputs": [
        {
          "output_type": "stream",
          "name": "stdout",
          "text": [
            "17\n"
          ]
        }
      ]
    },
    {
      "cell_type": "code",
      "source": [
        "### Convert Minutes to Hours\n",
        "\n",
        "\n",
        "# This will convert 200 minutes to hours by dividing by 60\n",
        "minutes = 200\n",
        "hours = minutes / 60\n",
        "print(f\"{minutes} minutes is equal to {hours} hours\")\n",
        "\n",
        "\n"
      ],
      "metadata": {
        "colab": {
          "base_uri": "https://localhost:8080/"
        },
        "id": "vq918b89wNyi",
        "outputId": "6e935aae-cef8-4381-f0d5-693b529c925b"
      },
      "execution_count": 4,
      "outputs": [
        {
          "output_type": "stream",
          "name": "stdout",
          "text": [
            "200 minutes is equal to 3.3333333333333335 hours\n"
          ]
        }
      ]
    },
    {
      "cell_type": "markdown",
      "source": [
        "## Objectives\n",
        "The main objectives of this notebook are:\n",
        "- List popular languages for Data Science\n",
        "- Introduce commonly used Data Science libraries\n",
        "- Demonstrate basic arithmetic operations in Python\n",
        "- Show how to convert units (minutes to hours)\n",
        "\n",
        "## Author\n",
        "John Doe\n"
      ],
      "metadata": {
        "id": "DeR0XhwTxELu"
      }
    }
  ]
}